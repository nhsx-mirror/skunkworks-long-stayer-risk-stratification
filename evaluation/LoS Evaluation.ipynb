{
 "cells": [
  {
   "cell_type": "markdown",
   "metadata": {},
   "source": [
    "# LoS Evaluation\n",
    "\n",
    "Evaluate the length of stay prediction model using MAE, median error, and limits of agreement."
   ]
  },
  {
   "cell_type": "code",
   "execution_count": null,
   "metadata": {},
   "outputs": [],
   "source": [
    "import os\n",
    "import pickle\n",
    "from matplotlib import pyplot as plt\n",
    "from tqdm import tqdm\n",
    "import pandas as pd\n",
    "import numpy as np\n",
    "from scipy import stats\n",
    "\n",
    "import sys\n",
    "sys.path.append('..')\n",
    "\n",
    "from ltss import los_model, risk_model, vectorise\n",
    "from ltss.utils import reshape_vector, vector_to_dict\n",
    "from training.loader import DataHandler"
   ]
  },
  {
   "cell_type": "markdown",
   "metadata": {},
   "source": [
    "## Generate results using LOS and CDF Models"
   ]
  },
  {
   "cell_type": "code",
   "execution_count": null,
   "metadata": {
    "scrolled": false
   },
   "outputs": [],
   "source": [
    "LOS_MODEL = los_model.init_model(model_file='../training/mod_ep_110')\n",
    "CDF_MODEL = risk_model.init_model(model_file='../training/trained_shuffle_100_v2.pkl')\n",
    "if os.path.exists('checkpoint.pkl'):\n",
    "    print('Loading Checkpoint')\n",
    "    with open('checkpoint.pkl', 'rb') as f:\n",
    "        d = pickle.load(f)\n",
    "    print(d.keys(), 'containing', len(d['dataset']), 'entries')\n",
    "    dataset = d['dataset']\n",
    "    true_los = d['true_los']\n",
    "    results = d['results']\n",
    "else:\n",
    "    # Get a DataHandler with the same shuffle and seed settings as used in training\n",
    "    loader = DataHandler('../NHSX Polygeist data 1617 to 2021 v2.csv', shuffle=True, fixed_seed=100, reshape=False)\n",
    "    print(f'Loaded {loader}')\n",
    "    # Use the validation cut of the data only\n",
    "    data, true_los = loader.get_validation()\n",
    "    true_los = true_los.cpu().detach().numpy()\n",
    "    # Flush streams to sync before using tqdm again\n",
    "    sys.stdout.flush()\n",
    "    sys.stderr.flush()\n",
    "    # Get classification for validation data through both models at once\n",
    "    results = []\n",
    "    for i, vector in enumerate(tqdm(data)):\n",
    "        # Convert to dict representation for the risk model, and predict LTSS\n",
    "        vector_dict = vector_to_dict(vector)\n",
    "        forecast = los_model.get_prediction(LOS_MODEL, vector_dict)\n",
    "        risk_predictions = risk_model.get_prediction(CDF_MODEL, vector_dict, \n",
    "                                                     ai_day_prediction=forecast.get('PREDICTED_LOS'))\n",
    "        # Store results\n",
    "        results.append(dict(forecast, **risk_predictions))\n",
    "    dataset = data.cpu().detach().numpy()\n",
    "    # Save checkpoint for fast reuse\n",
    "    with open('checkpoint.pkl', 'wb') as f:\n",
    "        pickle.dump(dict(dataset=dataset, true_los=true_los, results=results), f)"
   ]
  },
  {
   "cell_type": "code",
   "execution_count": null,
   "metadata": {},
   "outputs": [],
   "source": [
    "predicted_los = np.asarray([r['PREDICTED_LOS'] for r in results])\n",
    "\n",
    "print(f'Generated {len(predicted_los)} LoS predictions from {len(true_los)} ground truth entries')"
   ]
  },
  {
   "cell_type": "markdown",
   "metadata": {},
   "source": [
    "## Evaluate Error Rate"
   ]
  },
  {
   "cell_type": "code",
   "execution_count": null,
   "metadata": {},
   "outputs": [],
   "source": [
    "print('Mean absolute error:', np.mean(np.abs(true_los - predicted_los)))\n",
    "print('Median error:', np.median(np.abs(true_los - predicted_los)))"
   ]
  },
  {
   "cell_type": "code",
   "execution_count": null,
   "metadata": {},
   "outputs": [],
   "source": [
    "short_stays = true_los < 15\n",
    "print('Mean absolute error (short):', np.mean(np.abs(true_los[short_stays] - predicted_los[short_stays])))\n",
    "print('Median error (short):', np.median(np.abs(true_los[short_stays] - predicted_los[short_stays])))\n",
    "print('Mean absolute error (long):', np.mean(np.abs(true_los[~short_stays] - predicted_los[~short_stays])))\n",
    "print('Median error (long):', np.median(np.abs(true_los[~short_stays] - predicted_los[~short_stays])))"
   ]
  },
  {
   "cell_type": "markdown",
   "metadata": {},
   "source": [
    "## Evaluate Limits of Agreement"
   ]
  },
  {
   "cell_type": "code",
   "execution_count": null,
   "metadata": {},
   "outputs": [],
   "source": [
    "%matplotlib notebook\n",
    "\n",
    "def evaluate(true_los, predicted_los, title, alpha=0.2, cats=None):\n",
    "    irr_x = true_los\n",
    "    irr_y = true_los - predicted_los\n",
    "    mean = np.mean(irr_y)\n",
    "    stdev = np.std(irr_y)\n",
    "    limits = [mean + 1.96 * stdev, mean - 1.96 * stdev]\n",
    "    for confidence in [0.5, 0.75, 0.9, 0.95]:\n",
    "        sds = stats.norm.ppf(1 - (1 - confidence) / 2)\n",
    "        print(f'{title} {int(100 * confidence)}% limits of agreement: ±{sds*stdev:0.2f} days')\n",
    "    plt.figure()\n",
    "    plt.title(title)\n",
    "    plt.scatter(irr_x, irr_y, alpha=alpha, c=cats)\n",
    "    plt.hlines(mean, np.min(irr_x), np.max(irr_x), linestyles='solid', color='#B22330', label='$\\mu$ ({:0.2f} days)'.format(mean))\n",
    "    plt.hlines(limits, np.min(irr_x), np.max(irr_x), linestyles='dashed', color='#03716E', label='95% LoA ($\\sigma$ {:0.2f} days gives {:0.2f})'.format(stdev, 1.96*stdev))\n",
    "    plt.xlabel('True Length of Stay')\n",
    "    plt.ylabel('Agreement')\n",
    "    plt.legend(loc='upper left')\n",
    "    plt.show()"
   ]
  },
  {
   "cell_type": "code",
   "execution_count": null,
   "metadata": {
    "scrolled": false
   },
   "outputs": [],
   "source": [
    "evaluate(true_los, predicted_los, 'All Validation Data', alpha=0.05)"
   ]
  }
 ],
 "metadata": {
  "kernelspec": {
   "display_name": "Python 3 (ipykernel)",
   "language": "python",
   "name": "python3"
  },
  "language_info": {
   "codemirror_mode": {
    "name": "ipython",
    "version": 3
   },
   "file_extension": ".py",
   "mimetype": "text/x-python",
   "name": "python",
   "nbconvert_exporter": "python",
   "pygments_lexer": "ipython3",
   "version": "3.8.2"
  }
 },
 "nbformat": 4,
 "nbformat_minor": 4
}
